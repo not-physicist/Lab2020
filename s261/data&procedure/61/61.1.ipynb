{
 "cells": [
  {
   "cell_type": "code",
   "execution_count": 2,
   "metadata": {
    "scrolled": false
   },
   "outputs": [
    {
     "data": {
      "image/png": "[encoded data removed]",
      "text/plain": [
       "<Figure size 432x288 with 1 Axes>"
      ]
     },
     "metadata": {
      "needs_background": "light"
     },
     "output_type": "display_data"
    }
   ],
   "source": [
    "import numpy as np\n",
    "from numpy.polynomial.polynomial import polyfit\n",
    "import matplotlib.pyplot as plt\n",
    "X=np.array([30, 60, 120])\n",
    "Y= np.array([1942.02, 1944.01, 1948.99])\n",
    "Yerr=4\n",
    "plt.plot()\n",
    "plt.scatter(X, Y)\n",
    "b, m=polyfit(X, Y, 1)\n",
    "\n",
    "plt.errorbar(X, Y, Yerr, label='signal', color='red', linewidth=0.75, capsize=1)\n",
    "plt.plot(X, b+m*X, label='LinearFit', linewidth=0.75)\n",
    "plt.xlabel('Exposuer time (sec)')\n",
    "plt.ylabel('Mean ADU')\n",
    "plt.legend(loc='upper left')\n",
    "#plt.title('At 2 degree celcius')\n",
    "plt.show()"
   ]
  },
  {
   "cell_type": "code",
   "execution_count": 3,
   "metadata": {},
   "outputs": [
    {
     "ename": "SyntaxError",
     "evalue": "invalid syntax (<ipython-input-3-249e4478a674>, line 2)",
     "output_type": "error",
     "traceback": [
      "\u001b[0;36m  File \u001b[0;32m\"<ipython-input-3-249e4478a674>\"\u001b[0;36m, line \u001b[0;32m2\u001b[0m\n\u001b[0;31m    data=np.generate(fname,dtype=,skip_row=)\u001b[0m\n\u001b[0m                                 ^\u001b[0m\n\u001b[0;31mSyntaxError\u001b[0m\u001b[0;31m:\u001b[0m invalid syntax\n"
     ]
    }
   ],
   "source": [
    "fname=\"/Home/Desktp/lab\"\n",
    "data=np.generate(fname,dtype=,skip_row=)\n",
    "\n",
    "\n",
    "plt.plot(data[],data[])"
   ]
  },
  {
   "cell_type": "markdown",
   "metadata": {},
   "source": [
    "# Chenhuan's Version\n",
    "Ok, i will just try to do this completely new and keep you work above. First of all, manually typing in the data is really really bad idea. One could for example, do"
   ]
  },
  {
   "cell_type": "code",
   "execution_count": 9,
   "metadata": {},
   "outputs": [
    {
     "name": "stdout",
     "output_type": "stream",
     "text": [
      "[[        nan         nan         nan         nan         nan         nan\n",
      "          nan         nan         nan         nan         nan         nan\n",
      "          nan         nan         nan         nan         nan         nan\n",
      "          nan         nan         nan         nan         nan         nan\n",
      "          nan         nan         nan         nan         nan         nan\n",
      "          nan         nan         nan]\n",
      " [1.94150e+03 1.93764e+03 1.93921e+03 1.94150e+03 1.96487e+03 1.94093e+03\n",
      "  1.94934e+03 1.94093e+03 1.95219e+03 1.94064e+03 1.94321e+03 1.93793e+03\n",
      "  1.93800e+03 1.93893e+03 1.94000e+03 1.94007e+03 1.94550e+03 1.93824e+03\n",
      "  1.93843e+03 1.93900e+03 1.94127e+03 1.94007e+03 1.95027e+03 1.93876e+03\n",
      "  1.94007e+03 1.93937e+03 1.94350e+03 1.94043e+03 1.95667e+03 1.93950e+03\n",
      "  1.94221e+03 1.94014e+03 1.94688e+03]\n",
      " [1.93600e+03 1.93200e+03 1.93300e+03 1.93600e+03 1.95800e+03 1.93500e+03\n",
      "  1.94300e+03 1.93500e+03 1.94600e+03 1.93500e+03 1.93700e+03 1.93200e+03\n",
      "  1.93200e+03 1.93300e+03 1.93400e+03 1.93400e+03 1.93900e+03 1.93300e+03\n",
      "  1.93200e+03 1.93300e+03 1.93500e+03 1.93400e+03 1.94400e+03 1.93300e+03\n",
      "  1.93400e+03 1.93400e+03 1.93700e+03 1.93500e+03 1.95000e+03 1.93400e+03\n",
      "  1.93600e+03 1.93400e+03 1.94100e+03]\n",
      " [1.94200e+03 1.93800e+03 1.93900e+03 1.94200e+03 1.96500e+03 1.94100e+03\n",
      "  1.94900e+03 1.94100e+03 1.95200e+03 1.94100e+03 1.94300e+03 1.93800e+03\n",
      "  1.93800e+03 1.93900e+03 1.94000e+03 1.94000e+03 1.94600e+03 1.93800e+03\n",
      "  1.93800e+03 1.93900e+03 1.94100e+03 1.94000e+03 1.95000e+03 1.93900e+03\n",
      "  1.94000e+03 1.93900e+03 1.94400e+03 1.94000e+03 1.95700e+03 1.93950e+03\n",
      "  1.94200e+03 1.94000e+03 1.94700e+03]\n",
      " [1.94800e+03 1.94400e+03 1.94500e+03 1.94700e+03 1.97300e+03 1.94700e+03\n",
      "  1.95600e+03 1.94700e+03 1.95900e+03 1.94700e+03 1.94900e+03 1.94400e+03\n",
      "  1.94400e+03 1.94500e+03 1.94600e+03 1.94600e+03 1.95200e+03 1.94400e+03\n",
      "  1.94400e+03 1.94500e+03 1.94800e+03 1.94600e+03 1.95700e+03 1.94400e+03\n",
      "  1.94600e+03 1.94500e+03 1.95000e+03 1.94600e+03 1.96400e+03 1.94500e+03\n",
      "  1.94800e+03 1.94600e+03 1.95400e+03]\n",
      " [1.94434e+03 1.93849e+03 1.94075e+03 1.94273e+03 1.97166e+03 1.94124e+03\n",
      "  1.95154e+03 1.94163e+03 1.95602e+03 1.94321e+03 1.94673e+03 1.93875e+03\n",
      "  1.93898e+03 1.94001e+03 1.94185e+03 1.94214e+03 1.94980e+03 1.93897e+03\n",
      "  1.93949e+03 1.93986e+03 1.94343e+03 1.94188e+03 1.95505e+03 1.93916e+03\n",
      "  1.94153e+03 1.94033e+03 1.94610e+03 1.94200e+03 1.96259e+03 1.93973e+03\n",
      "  1.94390e+03 1.94093e+03 1.95009e+03]\n",
      " [9.71000e+00 8.43000e+00 9.29000e+00 8.22000e+00 1.02700e+01 8.86000e+00\n",
      "  9.48000e+00 8.86000e+00 9.25000e+00 8.43000e+00 9.29000e+00 8.86000e+00\n",
      "  8.97000e+00 8.86000e+00 8.97000e+00 9.07000e+00 9.71000e+00 7.83000e+00\n",
      "  9.61000e+00 8.97000e+00 9.37000e+00 9.07000e+00 9.37000e+00 8.61000e+00\n",
      "  9.07000e+00 8.02000e+00 9.71000e+00 8.12000e+00 9.96000e+00 8.22000e+00\n",
      "  9.29000e+00 9.18000e+00 1.02900e+01]\n",
      " [1.89700e+03 1.88900e+03 1.88500e+03 1.89700e+03 1.91300e+03 1.89600e+03\n",
      "  1.89800e+03 1.89400e+03 1.89200e+03 1.89900e+03 1.89600e+03 1.88900e+03\n",
      "  1.88400e+03 1.89400e+03 1.89300e+03 1.89500e+03 1.89300e+03 1.89000e+03\n",
      "  1.89400e+03 1.89300e+03 1.89300e+03 1.88300e+03 1.90400e+03 1.88900e+03\n",
      "  1.89500e+03 1.89200e+03 1.89700e+03 1.88600e+03 1.90200e+03 1.89500e+03\n",
      "  1.89600e+03 1.89600e+03 1.89700e+03]\n",
      " [4.09610e+04 1.50470e+04 2.57940e+04 2.23380e+04 5.89470e+04 7.84000e+03\n",
      "  2.99340e+04 1.28980e+04 4.32970e+04 3.83560e+04 5.53710e+04 1.32270e+04\n",
      "  1.69880e+04 2.21510e+04 3.02110e+04 3.44940e+04 4.43700e+04 1.16220e+04\n",
      "  1.88180e+04 1.88820e+04 3.41410e+04 3.06500e+04 4.85960e+04 1.03820e+04\n",
      "  2.21430e+04 1.67650e+04 3.94600e+04 2.63710e+04 5.39730e+04 9.14400e+03\n",
      "  2.61800e+04 1.45720e+04 4.89340e+04]\n",
      " [5.00000e+05 5.00000e+05 5.00000e+05 5.00000e+05 4.99999e+05 5.00000e+05\n",
      "  5.00000e+05 5.00000e+05 5.00000e+05 5.00000e+05 5.00000e+05 5.00000e+05\n",
      "  5.00000e+05 5.00000e+05 5.00000e+05 5.00000e+05 4.99999e+05 5.00000e+05\n",
      "  5.00000e+05 5.00000e+05 5.00000e+05 5.00000e+05 4.99999e+05 5.00000e+05\n",
      "  5.00000e+05 5.00000e+05 5.00000e+05 5.00000e+05 4.99999e+05 5.00000e+05\n",
      "  5.00000e+05 5.00000e+05 5.00000e+05]\n",
      " [1.00000e+02 1.00000e+02 1.00000e+02 1.00000e+02 1.00000e+02 1.00000e+02\n",
      "  1.00000e+02 1.00000e+02 1.00000e+02 1.00000e+02 1.00000e+02 1.00000e+02\n",
      "  1.00000e+02 1.00000e+02 1.00000e+02 1.00000e+02 1.00000e+02 1.00000e+02\n",
      "  1.00000e+02 1.00000e+02 1.00000e+02 1.00000e+02 1.00000e+02 1.00000e+02\n",
      "  1.00000e+02 1.00000e+02 1.00000e+02 1.00000e+02 1.00000e+02 1.00000e+02\n",
      "  1.00000e+02 1.00000e+02 1.00000e+02]]\n"
     ]
    }
   ],
   "source": [
    "data = np.genfromtxt(\"imstats.dat\", delimiter=\"\\t\").T\n",
    "# for this to work, you should have the data file in the same directory!\n",
    "print(data)"
   ]
  },
  {
   "cell_type": "markdown",
   "metadata": {},
   "source": [
    "So here the order of rows are messy, sometimes things get mixed, not easy to work on. In other tasks, it is really useful! Please try doing this first! I am not sure if you want to use genfromtxt() here, if you do, tell me and I can show you how to do it.\n",
    "\n",
    "## about data\n",
    "\n",
    "Think about which one of mean, media and average to use and motivate the choise in the report. If you use average, you need to use the sigma column in the data as the uncertainties in curve fitting.\n",
    "\n",
    "Data you have here is problematic. It seems wrong, pls check it again! You seem to be using imstats_all.dat, which is not correct. Read the header of the .dat files. We should use imstats.dat! And you are taking the -2 degree data! Careful with the minus sign  in the imstats.dat!\n",
    "\n",
    "But I will continue using your data."
   ]
  },
  {
   "cell_type": "markdown",
   "metadata": {},
   "source": [
    "## curve_fit method\n",
    "\n",
    "References and examples: https://docs.scipy.org/doc/scipy/reference/generated/scipy.optimize.curve_fit.html\n",
    "Please read carefully!"
   ]
  },
  {
   "cell_type": "code",
   "execution_count": 7,
   "metadata": {},
   "outputs": [
    {
     "name": "stdout",
     "output_type": "stream",
     "text": [
      "[7.82380952e-02 1.93953000e+03] [[ 1.70068179e-05 -1.19047672e-03]\n",
      " [-1.19047672e-03  1.07142857e-01]]\n"
     ]
    }
   ],
   "source": [
    "from scipy.optimize import curve_fit\n",
    "def line(x, a,b): \n",
    "    # model function\n",
    "    return a*x + b\n",
    "\n",
    "popt, pcov = curve_fit(line, X, Y)\n",
    "print(popt, pcov)"
   ]
  },
  {
   "cell_type": "markdown",
   "metadata": {},
   "source": [
    "So curve_fit gives you two arrays. First one contains the best fit parameters: a and b. And the second array is the covariance matrix. Most of times, here as well, one can just use the diagonal entries to give errors of parameters."
   ]
  },
  {
   "cell_type": "code",
   "execution_count": 8,
   "metadata": {},
   "outputs": [
    {
     "name": "stdout",
     "output_type": "stream",
     "text": [
      "a = 0.07823809523608927 +- 0.004123932332488547\n",
      "b = 1939.5300000042282 +- 0.3273268355610256\n"
     ]
    }
   ],
   "source": [
    "perr = np.sqrt(np.diag(pcov))\n",
    "print(\"a =\", popt[0], \"+-\", perr[0])\n",
    "print(\"b =\", popt[1], \"+-\", perr[1])"
   ]
  },
  {
   "cell_type": "markdown",
   "metadata": {},
   "source": [
    "Then you just need to do this to all the temperatures and in the end do another curve fit of dark current against temp."
   ]
  },
  {
   "cell_type": "code",
   "execution_count": null,
   "metadata": {},
   "outputs": [],
   "source": []
  }
 ],
 "metadata": {
  "kernelspec": {
   "display_name": "Python 3",
   "language": "python",
   "name": "python3"
  },
  "language_info": {
   "codemirror_mode": {
    "name": "ipython",
    "version": 3
   },
   "file_extension": ".py",
   "mimetype": "text/x-python",
   "name": "python",
   "nbconvert_exporter": "python",
   "pygments_lexer": "ipython3",
   "version": "3.8.5"
  }
 },
 "nbformat": 4,
 "nbformat_minor": 4
}
